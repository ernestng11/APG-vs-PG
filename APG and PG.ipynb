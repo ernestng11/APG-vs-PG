{
 "cells": [
  {
   "cell_type": "code",
   "execution_count": 738,
   "metadata": {},
   "outputs": [],
   "source": [
    "import numpy as np\n",
    "import matplotlib.pyplot as plt\n",
    "import numpy.matlib\n",
    "from sklearn.metrics import accuracy_score\n",
    "from scipy import io\n",
    "import os\n",
    "import math\n",
    "numpy.random.seed(42)\n",
    "\n",
    "cwd = os.chdir('/Users/ernestng/Desktop/NUS/Y2S2/DSA3102/HMWK2')\n",
    "data = io.loadmat('emaildata.mat')\n",
    "ytrain = data['ytrain']  # shape = (3065,1)\n",
    "ytest = data['ytest']\n",
    "xtrain = data['Xtrain']  # shape = (3065,57)\n",
    "xtest = data['Xtest']\n",
    "# w = np.zeros((57,1)) #shape = (57,1)\n",
    "theta = 0.05\n",
    "\n",
    "\n",
    "def prediction(w, Data):\n",
    "    pred = []\n",
    "    z = np.dot(w.T, Data.T)\n",
    "    a = sigmoid(z)\n",
    "    for i in range(0, len(a[0])):\n",
    "        if (a[0][i] > 0.5):\n",
    "            pred.append(1)\n",
    "        elif (a[0][i] <= 0.5):\n",
    "            pred.append(-1)\n",
    "    return pred\n",
    "\n",
    "\n",
    "def sigmoid(x):\n",
    "    a = 1/(1+np.exp(-x))\n",
    "    return a\n",
    "\n",
    "\n",
    "def obj(y, w, X):  # scalar\n",
    "    z = np.dot(X, w)\n",
    "    val = -np.multiply(y, z)\n",
    "    fx = np.sum(np.log(1+np.exp(val))) + theta*np.sum(np.abs(w))\n",
    "    return fx\n",
    "\n",
    "\n",
    "def grad(y, w, X):  # shape = (1,57)\n",
    "    z = np.dot(X, w)\n",
    "    val = np.multiply(y, z)\n",
    "    denom = -y/(1 + np.exp(val))\n",
    "    gradient = np.dot(denom.T, X)\n",
    "    return gradient\n",
    "\n",
    "\n",
    "def proxMap(L, w):  # shape = (1,57)\n",
    "    return np.sign(w)*np.maximum(np.zeros(np.shape(w)), np.abs(w)-theta/L)\n",
    "\n",
    "\n",
    "X = xtrain\n",
    "y = ytrain\n",
    "tol = 0.001\n",
    "fx_lst = []\n",
    "fx_lst_acc = []\n",
    "mom = []\n",
    "acc = []\n",
    "gw = []\n",
    "mom_acc = []\n",
    "acc_acc = []\n",
    "gw_acc = []\n",
    "steps = []\n",
    "count = 0\n",
    "count_acc = 0\n",
    "maxit = 5000\n",
    "# Momentum\n",
    "tOld = 1\n",
    "tNew = 1\n",
    "beta = 0\n",
    "# Initialize w to be zero\n",
    "wOld = np.zeros((57, 1))\n",
    "w_array = np.array(wOld)\n",
    "wBar = wOld\n",
    "wpd = wOld.copy()\n",
    "wpdBar = wpd\n",
    "# L is Lipshitz constant\n",
    "L = 0.5 * (np.linalg.norm(xtrain)**2) * 0.8\n",
    "while True:\n",
    "    while count < maxit:\n",
    "        fx = obj(y, wpd, X)  # Function value\n",
    "        gradwBar = grad(y, wpdBar, X)  # Gradient at wBar\n",
    "        w = proxMap(L, wpdBar - gradwBar.T/L)  # Proximal mapping of g\n",
    "        gradw = grad(y, w, X)  # Gradient at next w\n",
    "        #err = np.sum((w - proxMap(np.ones((58, 1)), w - gradw))**2)**0.5\n",
    "        # Change in function value from w to next w\n",
    "        f_change = np.linalg.norm(obj(y, w, X) - obj(y, wpd, X))\n",
    "        err3 = np.linalg.norm(gradw)  # 2-norm of gradient\n",
    "        step_change = np.linalg.norm(w - wpd)\n",
    "\n",
    "        \n",
    "        # Iterate for next w\n",
    "        wpdBar = w+(w-wpd)\n",
    "        gradwBar = grad(y, wpdBar, X)\n",
    "        wpd = w\n",
    "        w = proxMap(L, wpdBar - gradwBar.T/L)\n",
    "        gradw = grad(y, w, X)\n",
    "        fx = obj(y, w, X)\n",
    "        fx_lst.append(fx)\n",
    "        #err = np.sum((w - proxMap(np.ones((58, 1)), w - gradw))**2)**0.5\n",
    "        step_change = np.linalg.norm(w-wpd)\n",
    "        f_change = np.linalg.norm(obj(y, w, X) - obj(y, wpd, X))\n",
    "        err3 = np.linalg.norm(gradw)\n",
    "        gw.append(err3)\n",
    "        count += 1\n",
    "        ypred = prediction(w, xtest)\n",
    "        score = accuracy_score(ytest, ypred)*100\n",
    "        acc.append(score)\n",
    "        #print(\"Count\", count, \"step_change\", step_change,\"grad\", err3, \"accuracy\", score)\n",
    "    while count_acc < maxit:\n",
    "        fx = obj(y, wOld, X)  # Function value\n",
    "        gradwBar = grad(y, wBar, X)  # Gradient at wBar\n",
    "        w = proxMap(L, wBar - gradwBar.T/L)  # Proximal mapping of g\n",
    "        gradw = grad(y, w, X)  # Gradient at next w\n",
    "        #err = np.sum((w - proxMap(np.ones((58, 1)), w - gradw))**2)**0.5\n",
    "        # Change in function value from w to next w\n",
    "        f_change = np.linalg.norm(obj(y, w, X) - obj(y, wOld, X))\n",
    "        err3 = np.linalg.norm(gradw)  # 2-norm of gradient\n",
    "        step_change = np.linalg.norm(w - wOld)\n",
    "        # Update momentum\n",
    "        beta = (tOld-1)/tNew\n",
    "        tOld = tNew\n",
    "        tNew = 0.5 + 0.5*np.sqrt(1+4*(tOld**2))\n",
    "        # Iterate for next w\n",
    "        wBar = w+(w-wOld)*beta\n",
    "        mom_acc.append(beta)\n",
    "        gradwBar = grad(y, wBar, X)\n",
    "        wOld = w\n",
    "        w = proxMap(L, wBar - gradwBar.T/L)\n",
    "        gradw = grad(y, w, X)\n",
    "        fx = obj(y, w, X)\n",
    "        fx_lst_acc.append(fx)\n",
    "        #err = np.sum((w - proxMap(np.ones((58, 1)), w - gradw))**2)**0.5\n",
    "        step_change_acc = np.linalg.norm(w-wOld)\n",
    "        f_change = np.linalg.norm(obj(y, w, X) - obj(y, wOld, X))\n",
    "        err3 = np.linalg.norm(gradw)\n",
    "        gw_acc.append(err3)\n",
    "        count_acc += 1\n",
    "        ypred = prediction(w, xtest)\n",
    "        score = accuracy_score(ytest, ypred)*100\n",
    "        acc_acc.append(score)\n",
    "        steps.append(step_change_acc)\n",
    "        #print(\"Count\", count, \"step_change\", step_change,\"grad\", err3, \"accuracy\", score)\n",
    "    rang = range(0, count)\n",
    "    if step_change_acc < 1 and step_change < 1:\n",
    "        break\n",
    "\n"
   ]
  },
  {
   "cell_type": "markdown",
   "metadata": {},
   "source": [
    "Function change over number of iteration"
   ]
  },
  {
   "cell_type": "code",
   "execution_count": 755,
   "metadata": {},
   "outputs": [
    {
     "data": {
      "image/png": "[encoded data removed]",
      "text/plain": [
       "<Figure size 432x288 with 1 Axes>"
      ]
     },
     "metadata": {
      "needs_background": "light"
     },
     "output_type": "display_data"
    }
   ],
   "source": [
    "plt.plot(rang, fx_lst,\"b\", label=\"PG\")\n",
    "plt.plot(rang,fx_lst_acc,\"r\", label=\"APG\")\n",
    "plt.title('Function change')\n",
    "plt.xlabel('Iterations')\n",
    "plt.ylabel('Function value')\n",
    "leg = plt.legend()\n",
    "plt.show()"
   ]
  },
  {
   "cell_type": "markdown",
   "metadata": {},
   "source": [
    "Accuracy for APG and PG over number of iterations"
   ]
  },
  {
   "cell_type": "code",
   "execution_count": 756,
   "metadata": {},
   "outputs": [
    {
     "data": {
      "image/png": "[encoded data removed]",
      "text/plain": [
       "<Figure size 432x288 with 1 Axes>"
      ]
     },
     "metadata": {
      "needs_background": "light"
     },
     "output_type": "display_data"
    }
   ],
   "source": [
    "plt.plot(rang,acc,\"b\",label=\"PG\")\n",
    "plt.plot(rang,acc_acc,\"r\",label=\"APG\")\n",
    "plt.title('Performance')\n",
    "plt.xlabel('Iterations')\n",
    "plt.ylabel('Accuracy(%)')\n",
    "leg = plt.legend()\n",
    "plt.show()"
   ]
  },
  {
   "cell_type": "markdown",
   "metadata": {},
   "source": [
    "Gradient change for APG and PG"
   ]
  },
  {
   "cell_type": "code",
   "execution_count": 741,
   "metadata": {},
   "outputs": [
    {
     "data": {
      "image/png": "[encoded data removed]",
      "text/plain": [
       "<Figure size 432x288 with 1 Axes>"
      ]
     },
     "metadata": {
      "needs_background": "light"
     },
     "output_type": "display_data"
    }
   ],
   "source": [
    "plt.plot(rang,gw,\"b\",label=\"PG\")\n",
    "plt.plot(rang,gw_acc,\"r\",label=\"APG\")\n",
    "plt.title('Gradient change')\n",
    "plt.xlabel('Iterations')\n",
    "plt.ylabel('Gradient')\n",
    "leg = plt.legend()\n",
    "plt.show()"
   ]
  },
  {
   "cell_type": "markdown",
   "metadata": {},
   "source": [
    "Misclassification rate of APG"
   ]
  },
  {
   "cell_type": "code",
   "execution_count": 752,
   "metadata": {
    "scrolled": true
   },
   "outputs": [
    {
     "data": {
      "text/plain": [
       "5.989583333333343"
      ]
     },
     "execution_count": 752,
     "metadata": {},
     "output_type": "execute_result"
    }
   ],
   "source": [
    "100-acc_acc[-1]"
   ]
  },
  {
   "cell_type": "markdown",
   "metadata": {},
   "source": [
    "Misclassification rate of PG"
   ]
  },
  {
   "cell_type": "code",
   "execution_count": 753,
   "metadata": {},
   "outputs": [
    {
     "data": {
      "text/plain": [
       "9.114583333333343"
      ]
     },
     "execution_count": 753,
     "metadata": {},
     "output_type": "execute_result"
    }
   ],
   "source": [
    "100-acc[-1]"
   ]
  },
  {
   "cell_type": "code",
   "execution_count": null,
   "metadata": {},
   "outputs": [],
   "source": []
  }
 ],
 "metadata": {
  "kernelspec": {
   "display_name": "Python 3",
   "language": "python",
   "name": "python3"
  },
  "language_info": {
   "codemirror_mode": {
    "name": "ipython",
    "version": 3
   },
   "file_extension": ".py",
   "mimetype": "text/x-python",
   "name": "python",
   "nbconvert_exporter": "python",
   "pygments_lexer": "ipython3",
   "version": "3.7.6"
  }
 },
 "nbformat": 4,
 "nbformat_minor": 4
}
